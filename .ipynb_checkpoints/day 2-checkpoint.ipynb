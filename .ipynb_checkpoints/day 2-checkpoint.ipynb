{
 "cells": [
  {
   "cell_type": "code",
   "execution_count": 2,
   "id": "a66672e6",
   "metadata": {},
   "outputs": [],
   "source": [
    "puzzle = \"\"\"7 6 4 2 1\n",
    "1 2 7 8 9\n",
    "9 7 6 2 1\n",
    "1 3 2 4 5\n",
    "8 6 4 4 1\n",
    "1 3 6 7 9\"\"\".split(\"\\n\");"
   ]
  },
  {
   "cell_type": "code",
   "execution_count": 26,
   "id": "2311b5ae",
   "metadata": {},
   "outputs": [],
   "source": [
    "def diff(a, b):\n",
    "    int_a = int(a)\n",
    "    int_b = int(b)\n",
    "    if (int_a > int_b):\n",
    "        return int_a - int_b\n",
    "    return int_b - int_a"
   ]
  },
  {
   "cell_type": "code",
   "execution_count": 81,
   "id": "1fbdf514",
   "metadata": {},
   "outputs": [],
   "source": [
    "def check_row(array):\n",
    "    c1 = False\n",
    "    if array == sorted(array) or sorted(items, reverse=True):\n",
    "        c1 = True\n",
    "    c2 = all([False for i in range(len(array)-1) if diff(array[i], array[i+1]) < 1])\n",
    "    c3 = all([False for i in range(len(array)-1) if diff(array[i], array[i+1]) > 3])\n",
    "    return all(c1, c2, c3)"
   ]
  },
  {
   "cell_type": "code",
   "execution_count": 75,
   "id": "6bf70841",
   "metadata": {},
   "outputs": [
    {
     "data": {
      "text/plain": [
       "True"
      ]
     },
     "execution_count": 75,
     "metadata": {},
     "output_type": "execute_result"
    }
   ],
   "source": [
    "array = ['7', '6', '4', '2', '1']\n",
    "all([False for i in range(len(array)-1) if diff(array[i], array[i+1]) < 1])"
   ]
  },
  {
   "cell_type": "code",
   "execution_count": 76,
   "id": "904a50a1",
   "metadata": {},
   "outputs": [
    {
     "data": {
      "text/plain": [
       "True"
      ]
     },
     "execution_count": 76,
     "metadata": {},
     "output_type": "execute_result"
    }
   ],
   "source": [
    "all([False for i in range(len(array)-1) if diff(array[i], array[i+1]) > 3])"
   ]
  },
  {
   "cell_type": "code",
   "execution_count": 77,
   "id": "acc91af6",
   "metadata": {},
   "outputs": [
    {
     "data": {
      "text/plain": [
       "['7', '6', '4', '2', '1']"
      ]
     },
     "execution_count": 77,
     "metadata": {},
     "output_type": "execute_result"
    }
   ],
   "source": [
    "array"
   ]
  },
  {
   "cell_type": "code",
   "execution_count": 79,
   "id": "8e4fdcbe",
   "metadata": {},
   "outputs": [
    {
     "data": {
      "text/plain": [
       "[]"
      ]
     },
     "execution_count": 79,
     "metadata": {},
     "output_type": "execute_result"
    }
   ],
   "source": [
    "[False for i in range(len(array)-1) if diff(array[i], array[i+1]) < 1]"
   ]
  },
  {
   "cell_type": "code",
   "execution_count": 80,
   "id": "14a626b8",
   "metadata": {},
   "outputs": [
    {
     "data": {
      "text/plain": [
       "[]"
      ]
     },
     "execution_count": 80,
     "metadata": {},
     "output_type": "execute_result"
    }
   ],
   "source": [
    "[False for i in range(len(array)-1) if diff(array[i], array[i+1]) > 3]"
   ]
  },
  {
   "cell_type": "code",
   "execution_count": 34,
   "id": "07168571",
   "metadata": {},
   "outputs": [],
   "source": [
    "total = []\n",
    "for line in puzzle:\n",
    "    items = line.split(\" \")\n",
    "    for i in range(len(items)-1):\n",
    "        safe = False\n",
    "        if items == sorted(items) or items == sorted(items, reverse=True):\n",
    "            if diff(items[i], items[i+1]) > 1 and diff(items[i], items[i+1]) <= 3:\n",
    "                break\n",
    "        else:\n",
    "            break"
   ]
  },
  {
   "cell_type": "code",
   "execution_count": 15,
   "id": "f8ff8a4e",
   "metadata": {},
   "outputs": [
    {
     "data": {
      "text/plain": [
       "[]"
      ]
     },
     "execution_count": 15,
     "metadata": {},
     "output_type": "execute_result"
    }
   ],
   "source": [
    "total"
   ]
  },
  {
   "cell_type": "code",
   "execution_count": 74,
   "id": "04079d2a",
   "metadata": {},
   "outputs": [
    {
     "data": {
      "text/plain": [
       "['7', '6', '4', '2', '1']"
      ]
     },
     "execution_count": 74,
     "metadata": {},
     "output_type": "execute_result"
    }
   ],
   "source": [
    "puzzle[0].split(' ')"
   ]
  }
 ],
 "metadata": {
  "kernelspec": {
   "display_name": "Python 3 (ipykernel)",
   "language": "python",
   "name": "python3"
  },
  "language_info": {
   "codemirror_mode": {
    "name": "ipython",
    "version": 3
   },
   "file_extension": ".py",
   "mimetype": "text/x-python",
   "name": "python",
   "nbconvert_exporter": "python",
   "pygments_lexer": "ipython3",
   "version": "3.11.9"
  }
 },
 "nbformat": 4,
 "nbformat_minor": 5
}
