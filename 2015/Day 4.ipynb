{
 "cells": [
  {
   "cell_type": "code",
   "execution_count": 74,
   "id": "89c1dcbd",
   "metadata": {},
   "outputs": [],
   "source": [
    "import hashlib"
   ]
  },
  {
   "cell_type": "code",
   "execution_count": 81,
   "id": "7fc81fe3",
   "metadata": {},
   "outputs": [],
   "source": [
    "number = 1\n",
    "template_key = \"yzbqklnj{}\"\n",
    "hash = hashlib.md5(\"yzbqklnj\".encode('utf-8')).hexdigest()\n",
    "while hash[:6] != \"000000\":\n",
    "    key = template_key.format(number)\n",
    "    hash = hashlib.md5(key.encode('utf-8')).hexdigest()\n",
    "    number += 1"
   ]
  },
  {
   "cell_type": "code",
   "execution_count": 82,
   "id": "ef1cd585",
   "metadata": {},
   "outputs": [
    {
     "data": {
      "text/plain": [
       "9962624"
      ]
     },
     "execution_count": 82,
     "metadata": {},
     "output_type": "execute_result"
    }
   ],
   "source": [
    "number - 1"
   ]
  }
 ],
 "metadata": {
  "kernelspec": {
   "display_name": "Python 3 (ipykernel)",
   "language": "python",
   "name": "python3"
  },
  "language_info": {
   "codemirror_mode": {
    "name": "ipython",
    "version": 3
   },
   "file_extension": ".py",
   "mimetype": "text/x-python",
   "name": "python",
   "nbconvert_exporter": "python",
   "pygments_lexer": "ipython3",
   "version": "3.11.9"
  }
 },
 "nbformat": 4,
 "nbformat_minor": 5
}
